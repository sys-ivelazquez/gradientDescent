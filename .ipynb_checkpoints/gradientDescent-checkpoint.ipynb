{
 "cells": [
  {
   "cell_type": "markdown",
   "id": "5a96b8e0-c70e-4450-99e8-3b8f024efa7a",
   "metadata": {},
   "source": [
    "# Homework 1\n",
    "\n",
    "**Name:** Silvia Ivonne Velázquez Ramírez\n",
    "\n",
    "**e-mail:** silvia.velazquez7499@alumnos.udg.mx"
   ]
  },
  {
   "cell_type": "markdown",
   "id": "82ba29f0-d3d3-477e-8769-9c7d1f184aee",
   "metadata": {},
   "source": [
    "# Modules"
   ]
  },
  {
   "cell_type": "code",
   "execution_count": 1,
   "id": "7681f38d-ab66-40a5-a20b-db2ca5ec6866",
   "metadata": {},
   "outputs": [],
   "source": [
    "import numpy as np #to perform calculations\n",
    "import matplotlib.pyplot as plt #to plot the points"
   ]
  },
  {
   "cell_type": "markdown",
   "id": "6acaa016-598d-45bd-baf2-f33746b3737c",
   "metadata": {},
   "source": [
    "# Theory on the Gradient Descent algorithm"
   ]
  },
  {
   "cell_type": "code",
   "execution_count": 5,
   "id": "84f9eeac-b9d7-4a44-831d-9b30d0dd6cea",
   "metadata": {},
   "outputs": [],
   "source": [
    "# Function to be optimized\n",
    "def mathfunc(x):\n",
    "    return x**4 - 3*x**3 + 2\n",
    "\n",
    "# Derivate of mathfunc function (f(x))\n",
    "def dmathfunc(x):\n",
    "    return 4*x**3 - 9*x**2\n",
    "\n",
    "# Parameters\n",
    "# Learning rate\n",
    "rate = 0.001\n",
    "# Initial random point\n",
    "rp = np.random.uniform(-2, 2)\n",
    "# Stop criterion\n",
    "sc = 1e-6\n",
    "# Max iterations\n",
    "mi = 1000\n",
    "\n",
    "# List to store the x value in each iteration\n",
    "xlist = [rp]"
   ]
  },
  {
   "cell_type": "code",
   "execution_count": 6,
   "id": "2698608f-7dcf-4e7c-a895-915b5cdfdf6f",
   "metadata": {},
   "outputs": [
    {
     "name": "stdout",
     "output_type": "stream",
     "text": [
      "Minimum found at rp = -0.09389802613416427, f(rp) = 2.002561388079838\n"
     ]
    }
   ],
   "source": [
    "# Run gradient descent algorithm\n",
    "for _ in range(mi):\n",
    "    gradient = dmathfunc(rp)\n",
    "    rp_new = rp - rate * gradient\n",
    "\n",
    "    xlist.append(rp_new)\n",
    "\n",
    "    if abs(rp_new - rp) < sc:\n",
    "        break\n",
    "\n",
    "    rp = rp_new\n",
    "\n",
    "# Results\n",
    "print(f\"Minimum found at rp = {rp}, f(rp) = {mathfunc(rp)}\")\n"
   ]
  },
  {
   "cell_type": "code",
   "execution_count": 7,
   "id": "e80114fe-8ae7-4415-8c15-f34f049b3736",
   "metadata": {},
   "outputs": [],
   "source": [
    "# Plot the results\n"
   ]
  }
 ],
 "metadata": {
  "kernelspec": {
   "display_name": "Python 3 (ipykernel)",
   "language": "python",
   "name": "python3"
  },
  "language_info": {
   "codemirror_mode": {
    "name": "ipython",
    "version": 3
   },
   "file_extension": ".py",
   "mimetype": "text/x-python",
   "name": "python",
   "nbconvert_exporter": "python",
   "pygments_lexer": "ipython3",
   "version": "3.13.2"
  }
 },
 "nbformat": 4,
 "nbformat_minor": 5
}
