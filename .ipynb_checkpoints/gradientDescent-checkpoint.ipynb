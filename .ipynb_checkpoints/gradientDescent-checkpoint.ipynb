{
 "cells": [
  {
   "cell_type": "markdown",
   "id": "5a96b8e0-c70e-4450-99e8-3b8f024efa7a",
   "metadata": {},
   "source": [
    "# Homework 1\n",
    "\n",
    "**Name:** Silvia Ivonne Velázquez Ramírez\n",
    "\n",
    "**e-mail:** silvia.velazquez7499@alumnos.udg.mx"
   ]
  },
  {
   "cell_type": "markdown",
   "id": "82ba29f0-d3d3-477e-8769-9c7d1f184aee",
   "metadata": {},
   "source": [
    "# MODULES"
   ]
  },
  {
   "cell_type": "code",
   "execution_count": null,
   "id": "7681f38d-ab66-40a5-a20b-db2ca5ec6866",
   "metadata": {},
   "outputs": [],
   "source": [
    "import numpy as np #to perform calculations\n",
    "import matplotlib.pyplot as plt #to plot the points"
   ]
  },
  {
   "cell_type": "markdown",
   "id": "6acaa016-598d-45bd-baf2-f33746b3737c",
   "metadata": {},
   "source": [
    "# Theory on the Gradient Descent algorithm"
   ]
  },
  {
   "cell_type": "code",
   "execution_count": null,
   "id": "84f9eeac-b9d7-4a44-831d-9b30d0dd6cea",
   "metadata": {},
   "outputs": [],
   "source": [
    "# Function to be optimized"
   ]
  },
  {
   "cell_type": "code",
   "execution_count": null,
   "id": "2698608f-7dcf-4e7c-a895-915b5cdfdf6f",
   "metadata": {},
   "outputs": [],
   "source": [
    "# Run gradient descent algorithm"
   ]
  },
  {
   "cell_type": "code",
   "execution_count": null,
   "id": "e80114fe-8ae7-4415-8c15-f34f049b3736",
   "metadata": {},
   "outputs": [],
   "source": [
    "# Plot the results"
   ]
  }
 ],
 "metadata": {
  "kernelspec": {
   "display_name": "Python 3 (ipykernel)",
   "language": "python",
   "name": "python3"
  },
  "language_info": {
   "codemirror_mode": {
    "name": "ipython",
    "version": 3
   },
   "file_extension": ".py",
   "mimetype": "text/x-python",
   "name": "python",
   "nbconvert_exporter": "python",
   "pygments_lexer": "ipython3",
   "version": "3.13.2"
  }
 },
 "nbformat": 4,
 "nbformat_minor": 5
}
